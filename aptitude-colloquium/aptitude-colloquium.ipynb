{
  "cells": [
    {
      "cell_type": "raw",
      "metadata": {},
      "source": [
        "---\n",
        "title: \"Closed-loop plastic recycling:\"\n",
        "subtitle: \"Design and evaluation of reverse logistics for plastic bottles\"\n",
        "date: \"14 February 2023\"\n",
        "author: \"Lin Boynton\"\n",
        "format:\n",
        "  revealjs: \n",
        "    slide-number: true\n",
        "    chalkboard: \n",
        "      buttons: false\n",
        "    preview-links: auto\n",
        "    css: slides.scss\n",
        "    logo: images/eth-logo.png\n",
        "\n",
        "---"
      ],
      "id": "57230c1e"
    },
    {
      "cell_type": "markdown",
      "metadata": {},
      "source": [
        "```{css}\n",
        "h1.title {\n",
        "  font-size: 30px;\n",
        "  line-height: 90px;\n",
        "}\n",
        "```\n",
        "\n",
        "\n",
        "## Hello, There\n",
        "\n",
        "This presentation will show you examples of what you can do with Quarto and [Reveal.js](https://revealjs.com), including:\n",
        "\n",
        "-   Presenting code and LaTeX equations\n",
        "-   Including computations in slide output\n",
        "-   Image, video, and iframe backgrounds\n",
        "-   Fancy transitions and animations\n",
        "-   Printing to PDF\n",
        "\n",
        "...and much more"
      ],
      "id": "b617031b"
    }
  ],
  "metadata": {
    "kernelspec": {
      "display_name": "Python 3",
      "language": "python",
      "name": "python3"
    }
  },
  "nbformat": 4,
  "nbformat_minor": 5
}